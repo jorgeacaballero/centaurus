{
 "cells": [
  {
   "cell_type": "code",
   "execution_count": 1,
   "metadata": {
    "collapsed": true
   },
   "outputs": [],
   "source": [
    "from bs4 import BeautifulSoup\n",
    "\n",
    "try:\n",
    "    # For Python 3.0 and later\n",
    "    from urllib.request import urlopen\n",
    "    from urllib.error import URLError\n",
    "    from urllib.error import HTTPError\n",
    "except ImportError:\n",
    "    # Fall back to Python 2's urllib2\n",
    "    from urllib2 import urlopen\n",
    "    from urllib2 import URLError\n",
    "    from urllib2 import HTTPError\n",
    "\n",
    "try:\n",
    "    # For Python 3.0 and later\n",
    "    from urllib.parse import urlparse\n",
    "except ImportError:\n",
    "    # Fall back to Python 2's urlparse\n",
    "    from urlparse import urlparse\n",
    "\n",
    "try:\n",
    "    from simplejson import loads, dumps\n",
    "except ImportError:\n",
    "    from json import loads, dumps\n",
    "    \n",
    "import psycopg2\n",
    "\n",
    "try:\n",
    "    conn = psycopg2.connect(\"dbname='centaurus' host='localhost'\")\n",
    "except:\n",
    "    print \"I am unable to connect to the database\""
   ]
  },
  {
   "cell_type": "code",
   "execution_count": 2,
   "metadata": {},
   "outputs": [],
   "source": [
    "url = \"https://arxiv.org/abs/1009.0002\"\n",
    "site = urlopen(url)\n",
    "if site.getcode() >= 200 and site.getcode() <= 400:\n",
    "    page = site.read()\n",
    "    soup = BeautifulSoup(page, \"html5lib\")"
   ]
  },
  {
   "cell_type": "code",
   "execution_count": 3,
   "metadata": {},
   "outputs": [
    {
     "name": "stdout",
     "output_type": "stream",
     "text": [
      "DT/T beyond linear theory\n"
     ]
    }
   ],
   "source": [
    "title = soup.select(\"h1.title.mathjax\")[0].getText()\n",
    "print title.split(\"Title:\\n\")[1]"
   ]
  },
  {
   "cell_type": "code",
   "execution_count": 4,
   "metadata": {},
   "outputs": [
    {
     "name": "stdout",
     "output_type": "stream",
     "text": [
      "Enrique Martinez-Gonzalez\n"
     ]
    }
   ],
   "source": [
    "authors = soup.find_all(\"div\", class_=\"authors\")[0].find_all(\"a\")\n",
    "for au in authors:\n",
    "    print au.getText()\n"
   ]
  },
  {
   "cell_type": "code",
   "execution_count": 6,
   "metadata": {},
   "outputs": [
    {
     "name": "stdout",
     "output_type": "stream",
     "text": [
      "The major contribution to the anisotropy of the temperature of the Cosmic\n",
      "Microwave Background (CMB) radiation is believed to come from the interaction\n",
      "of linear density perturbations with the radiation previous to the decoupling\n",
      "time. Assuming a standard thermal history for the gas after recombination, only\n",
      "the gravitational field produced by the linear density perturbations present on\n",
      "a $\\Omega\\neq 1$ universe can generate anisotropies at low z (these\n",
      "anisotropies would manifest on large angular scales). However, secondary\n",
      "anisotropies are inevitably produced during the nonlinear evolution of matter\n",
      "at late times even in a universe with a standard thermal history. Two effects\n",
      "associated to this nonlinear phase can give rise to new anisotropies: the\n",
      "time-varying gravitational potential of nonlinear structures (Rees-Sciama RS\n",
      "effect) and the inverse Compton scattering of the microwave photons with hot\n",
      "electrons in clusters of galaxies (Sunyaev-Zeldovich SZ effect). These two\n",
      "effects can produce distinct imprints on the CMB temperature anisotropy. We\n",
      "discuss the amplitude of the anisotropies expected and the relevant angular\n",
      "scales in different cosmological scenarios. Future sensitive experiments will\n",
      "be able to probe the CMB anisotropies beyong the first order primary\n",
      "contribution.\n",
      "\n"
     ]
    }
   ],
   "source": [
    "abstract = soup.select(\"blockquote.abstract.mathjax\")[0].getText()\n",
    "print abstract.split(\"Abstract: \")[1]"
   ]
  },
  {
   "cell_type": "code",
   "execution_count": null,
   "metadata": {
    "collapsed": true
   },
   "outputs": [],
   "source": []
  }
 ],
 "metadata": {
  "kernelspec": {
   "display_name": "Python 2",
   "language": "python",
   "name": "python2"
  },
  "language_info": {
   "codemirror_mode": {
    "name": "ipython",
    "version": 2
   },
   "file_extension": ".py",
   "mimetype": "text/x-python",
   "name": "python",
   "nbconvert_exporter": "python",
   "pygments_lexer": "ipython2",
   "version": "2.7.10"
  }
 },
 "nbformat": 4,
 "nbformat_minor": 2
}
