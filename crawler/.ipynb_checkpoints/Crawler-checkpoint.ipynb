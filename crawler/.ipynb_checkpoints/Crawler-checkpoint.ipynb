{
 "cells": [
  {
   "cell_type": "code",
   "execution_count": 1,
   "metadata": {
    "collapsed": true
   },
   "outputs": [],
   "source": [
    "from bs4 import BeautifulSoup\n",
    "\n",
    "try:\n",
    "    # For Python 3.0 and later\n",
    "    from urllib.request import urlopen\n",
    "    from urllib.error import URLError\n",
    "    from urllib.error import HTTPError\n",
    "except ImportError:\n",
    "    # Fall back to Python 2's urllib2\n",
    "    from urllib2 import urlopen\n",
    "    from urllib2 import URLError\n",
    "    from urllib2 import HTTPError\n",
    "\n",
    "try:\n",
    "    # For Python 3.0 and later\n",
    "    from urllib.parse import urlparse\n",
    "except ImportError:\n",
    "    # Fall back to Python 2's urlparse\n",
    "    from urlparse import urlparse\n",
    "\n",
    "try:\n",
    "    from simplejson import loads, dumps\n",
    "except ImportError:\n",
    "    from json import loads, dumps\n",
    "    \n",
    "import psycopg2\n",
    "\n",
    "try:\n",
    "    conn = psycopg2.connect(\"dbname='centaurus' host='localhost'\")\n",
    "except:\n",
    "    print \"I am unable to connect to the database\""
   ]
  },
  {
   "cell_type": "code",
   "execution_count": 2,
   "metadata": {},
   "outputs": [],
   "source": [
    "year = 10\n",
    "month = 9\n",
    "url = \"https://arxiv.org/abs/1009.0001\"\n",
    "datadict = []\n",
    "site = urlopen(url)\n",
    "if site.getcode() >= 200 and site.getcode() <= 400:\n",
    "    page = site.read()\n",
    "    soup = BeautifulSoup(page, \"html5lib\")"
   ]
  },
  {
   "cell_type": "code",
   "execution_count": 3,
   "metadata": {},
   "outputs": [],
   "source": [
    "title = soup.select(\"h1.title.mathjax\")[0].getText()\n",
    "title = title.split(\"Title:\\n\")[1]"
   ]
  },
  {
   "cell_type": "code",
   "execution_count": 4,
   "metadata": {},
   "outputs": [],
   "source": [
    "authors_text = soup.find_all(\"div\", class_=\"authors\")[0].find_all(\"a\")\n",
    "authors = []\n",
    "for au in authors_text:\n",
    "    authors.append(au.getText())\n",
    "authors_string = \",\".join(authors)"
   ]
  },
  {
   "cell_type": "code",
   "execution_count": 5,
   "metadata": {},
   "outputs": [],
   "source": [
    "abstract = soup.select(\"blockquote.abstract.mathjax\")[0].getText()\n",
    "abstract = abstract.split(\"Abstract: \")[1]"
   ]
  },
  {
   "cell_type": "code",
   "execution_count": 6,
   "metadata": {},
   "outputs": [],
   "source": [
    "datadict.append({\"title\": title, \"authors\": authors_string, \"abstract\": abstract, \"url\": url, \"year\": year, \"month\": month})\n",
    "datadict = tuple(datadict)\n",
    "cur = conn.cursor()\n",
    "cur.executemany(\"\"\"insert into data (title,authors,abstract,url, year, month) values (%(title)s, %(authors)s, %(abstract)s, %(url)s, %(year)s, %(month)s)\"\"\", datadict)\n"
   ]
  },
  {
   "cell_type": "code",
   "execution_count": 7,
   "metadata": {},
   "outputs": [
    {
     "name": "stdout",
     "output_type": "stream",
     "text": [
      "Bye!\n"
     ]
    }
   ],
   "source": [
    "conn.commit()\n",
    "conn.close()\n",
    "print \"Bye!\""
   ]
  }
 ],
 "metadata": {
  "kernelspec": {
   "display_name": "Python 2",
   "language": "python",
   "name": "python2"
  },
  "language_info": {
   "codemirror_mode": {
    "name": "ipython",
    "version": 2
   },
   "file_extension": ".py",
   "mimetype": "text/x-python",
   "name": "python",
   "nbconvert_exporter": "python",
   "pygments_lexer": "ipython2",
   "version": "2.7.10"
  }
 },
 "nbformat": 4,
 "nbformat_minor": 2
}
